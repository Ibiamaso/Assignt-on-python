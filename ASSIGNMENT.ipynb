{
 "cells": [
  {
   "cell_type": "markdown",
   "id": "3012a3cc",
   "metadata": {},
   "source": [
    "LEAP YEAR"
   ]
  },
  {
   "cell_type": "code",
   "execution_count": 7,
   "id": "1cee18cd",
   "metadata": {},
   "outputs": [
    {
     "name": "stdout",
     "output_type": "stream",
     "text": [
      "ENTER YEAR1345\n",
      "1345 Not a leap year\n"
     ]
    }
   ],
   "source": [
    "year=int(input(\"ENTER YEAR\"))\n",
    "if year%4==0 and (year%100!=0 or year%400==0):\n",
    "                  print(year,\"Leap year\")\n",
    "else:\n",
    "    print(year,\"Not a leap year\") "
   ]
  },
  {
   "cell_type": "markdown",
   "id": "99962277",
   "metadata": {},
   "source": [
    "DIVISORS OF A NUMBER"
   ]
  },
  {
   "cell_type": "code",
   "execution_count": 1,
   "id": "001f2cad",
   "metadata": {},
   "outputs": [
    {
     "name": "stdout",
     "output_type": "stream",
     "text": [
      "Enter a number: 56\n",
      "Divisors of 56 are:\n",
      "1\n",
      "2\n",
      "4\n",
      "7\n",
      "8\n",
      "14\n",
      "28\n",
      "56\n"
     ]
    }
   ],
   "source": [
    "num = int(input(\"Enter a number: \"))\n",
    "\n",
    "print(\"Divisors of\", num, \"are:\")\n",
    "\n",
    "for i in range(1, num + 1):\n",
    "    if num % i == 0:\n",
    "        print(i)\n"
   ]
  },
  {
   "cell_type": "markdown",
   "id": "b1d745cf",
   "metadata": {},
   "source": [
    "ITEM PRICING "
   ]
  },
  {
   "cell_type": "code",
   "execution_count": 2,
   "id": "7ed95d83",
   "metadata": {},
   "outputs": [
    {
     "name": "stdout",
     "output_type": "stream",
     "text": [
      "ENTER NUMBERS OF ITEM BOUGHT56\n",
      "TOTAL COST OF ITEM BOUGHT:$ 560\n"
     ]
    }
   ],
   "source": [
    "num_items = int(input(\"ENTER NUMBERS OF ITEM BOUGHT\"))\n",
    "if num_items < 10:\n",
    "    total_cost = num_items * 12\n",
    "elif num_items < 100:\n",
    "    total_cost = num_items * 10\n",
    "else:\n",
    "    total_cost = num_items * 7\n",
    "print(\"TOTAL COST OF ITEM BOUGHT:$\",total_cost)   "
   ]
  },
  {
   "cell_type": "markdown",
   "id": "3d90dcf0",
   "metadata": {},
   "source": [
    "CLOSNESS OF A NUMBER TO 0.001"
   ]
  },
  {
   "cell_type": "code",
   "execution_count": null,
   "id": "ef55096f",
   "metadata": {},
   "outputs": [],
   "source": [
    "num1 = float(input(\"PLEASE ENTER FIRST NUMBER: \"))\n",
    "num2 = float(input(\"PLEASE ENTER SECOND NUMBER: \"))\n",
    "if abs(num1 - num2) < 0.001:\n",
    "    print(\"CLOSE\")\n",
    "else:\n",
    "    print(\"NOT CLOSE\")"
   ]
  }
 ],
 "metadata": {
  "kernelspec": {
   "display_name": "Python 3 (ipykernel)",
   "language": "python",
   "name": "python3"
  },
  "language_info": {
   "codemirror_mode": {
    "name": "ipython",
    "version": 3
   },
   "file_extension": ".py",
   "mimetype": "text/x-python",
   "name": "python",
   "nbconvert_exporter": "python",
   "pygments_lexer": "ipython3",
   "version": "3.10.9"
  }
 },
 "nbformat": 4,
 "nbformat_minor": 5
}
