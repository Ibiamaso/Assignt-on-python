{
 "cells": [
  {
   "cell_type": "markdown",
   "id": "cbfdd5c4",
   "metadata": {},
   "source": [
    "# CLASSIFICATION OF DATA TYPES"
   ]
  },
  {
   "cell_type": "code",
   "execution_count": 14,
   "id": "d618c282",
   "metadata": {},
   "outputs": [
    {
     "name": "stdout",
     "output_type": "stream",
     "text": [
      "1452 <class 'int'>\n",
      "11.23 <class 'float'>\n",
      "(1+2j) <class 'complex'>\n",
      "True <class 'bool'>\n",
      "w3resource <class 'str'>\n",
      "(0, -1) <class 'tuple'>\n",
      "[5, 12] <class 'list'>\n",
      "{'class': 'V', 'section': 'A'} <class 'dict'>\n"
     ]
    }
   ],
   "source": [
    "data_list = [1452, 11.23, 1+2j, True, 'w3resource', (0, -1), [5,\n",
    "12], {\"class\":'V', \"section\":'A'}]\n",
    "for item in data_list:\n",
    "    print(item, type(item))"
   ]
  },
  {
   "cell_type": "markdown",
   "id": "3f763b09",
   "metadata": {},
   "source": [
    "# COMPLEX PRINT"
   ]
  },
  {
   "cell_type": "code",
   "execution_count": 25,
   "id": "0902e5be",
   "metadata": {},
   "outputs": [
    {
     "name": "stdout",
     "output_type": "stream",
     "text": [
      "0\n",
      "1\n",
      "2\n",
      "4\n",
      "5\n"
     ]
    }
   ],
   "source": [
    "for num in range(7):\n",
    "    if num !=3 and num!=6:\n",
    "        \n",
    "        print(num)"
   ]
  },
  {
   "cell_type": "markdown",
   "id": "edcea39f",
   "metadata": {},
   "source": [
    "# FIZZBUZZ PROGRAM"
   ]
  },
  {
   "cell_type": "code",
   "execution_count": 18,
   "id": "959d4aba",
   "metadata": {},
   "outputs": [
    {
     "name": "stdout",
     "output_type": "stream",
     "text": [
      "1\n",
      "2\n",
      "FIZZ\n",
      "4\n",
      "BUZZ\n",
      "FIZZ\n",
      "7\n",
      "8\n",
      "FIZZ\n",
      "BUZZ\n",
      "11\n",
      "FIZZ\n",
      "13\n",
      "14\n",
      "FIZZ\n",
      "16\n",
      "17\n",
      "FIZZ\n",
      "19\n",
      "BUZZ\n",
      "FIZZ\n",
      "22\n",
      "23\n",
      "FIZZ\n",
      "BUZZ\n",
      "26\n",
      "FIZZ\n",
      "28\n",
      "29\n",
      "FIZZ\n",
      "31\n",
      "32\n",
      "FIZZ\n",
      "34\n",
      "BUZZ\n",
      "FIZZ\n",
      "37\n",
      "38\n",
      "FIZZ\n",
      "BUZZ\n",
      "41\n",
      "FIZZ\n",
      "43\n",
      "44\n",
      "FIZZ\n",
      "46\n",
      "47\n",
      "FIZZ\n",
      "49\n",
      "BUZZ\n"
     ]
    }
   ],
   "source": [
    "for num in range(1,51): \n",
    "    if num % 3 == 0:\n",
    "        print(\"FIZZ\")\n",
    "    elif num % 5 == 0:\n",
    "        print(\"BUZZ\")\n",
    "    elif num % 3 == 0 and num % 5 ==0:\n",
    "        print(\"FIZZBUZ\") \n",
    "    else:\n",
    "        print(num) "
   ]
  }
 ],
 "metadata": {
  "kernelspec": {
   "display_name": "Python 3 (ipykernel)",
   "language": "python",
   "name": "python3"
  },
  "language_info": {
   "codemirror_mode": {
    "name": "ipython",
    "version": 3
   },
   "file_extension": ".py",
   "mimetype": "text/x-python",
   "name": "python",
   "nbconvert_exporter": "python",
   "pygments_lexer": "ipython3",
   "version": "3.10.9"
  }
 },
 "nbformat": 4,
 "nbformat_minor": 5
}
