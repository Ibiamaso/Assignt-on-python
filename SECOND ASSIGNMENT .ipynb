{
 "cells": [
  {
   "cell_type": "markdown",
   "id": "5c9ce487",
   "metadata": {},
   "source": [
    "NAME THAT SHAPE"
   ]
  },
  {
   "cell_type": "code",
   "execution_count": 2,
   "id": "bb760b5a",
   "metadata": {},
   "outputs": [
    {
     "name": "stdout",
     "output_type": "stream",
     "text": [
      "ENTER NUMBER OF SIDES OF SHAPE(3-10): 7\n",
      "A SHAPE WITH 7 SIDES IS CALLED A HEPTAGON\n"
     ]
    }
   ],
   "source": [
    "num_sides=int(input(\"ENTER NUMBER OF SIDES OF SHAPE(3-10): \"))\n",
    "if num_sides < 3 or num_sides > 10:\n",
    "    print(\"INVALID INPUT\\nPLEASE INSERT A NUMBER FORM 3 -10\")\n",
    "else:\n",
    "    if num_sides == 3:\n",
    "        shape_name=\"TRIANGLE\"\n",
    "    elif num_sides == 4:\n",
    "        shape_name=\"QUARDRILATERAL\"\n",
    "    elif num_sides == 5:\n",
    "        shape_name=\"PENTAGON\"    \n",
    "    elif num_sides == 6:\n",
    "        shape_name=\"HEXAGON\"    \n",
    "    elif num_sides == 7:\n",
    "        shape_name=\"HEPTAGON\"\n",
    "    elif num_sides == 8:\n",
    "        shape_name=\"OCTAGON\"\n",
    "    elif num_sides == 9:\n",
    "        shape_name=\"NONAGON\"\n",
    "    else:\n",
    "        shape_name= \"DECAGON\"\n",
    "    print(\"A SHAPE WITH\", num_sides, \"SIDES IS CALLED A\",shape_name)"
   ]
  },
  {
   "cell_type": "markdown",
   "id": "2c1cec4a",
   "metadata": {},
   "source": [
    "MONTH NAME TO NUMBER OF DAYS"
   ]
  },
  {
   "cell_type": "code",
   "execution_count": 45,
   "id": "5e01d993",
   "metadata": {},
   "outputs": [
    {
     "name": "stdout",
     "output_type": "stream",
     "text": [
      "Enter the name of a month: February\n",
      "Enter a year: 1978\n",
      "The number of days in February 1978 is 28\n"
     ]
    }
   ],
   "source": [
    "month_name = input(\"Enter the name of a month: \")\n",
    "\n",
    "if month_name == \"February\":\n",
    "    year = int(input(\"Enter a year: \"))\n",
    "    if (year % 4 == 0 and year % 100 != 0) or year % 400 == 0:\n",
    "        num_days = 29\n",
    "    else:\n",
    "        num_days = 28\n",
    "elif month_name in (\"April\", \"June\", \"September\", \"November\"):\n",
    "    num_days = 30\n",
    "elif month_name in (\"January\", \"March\", \"May\", \"July\", \"August\", \"October\", \"December\"):\n",
    "    num_days = 31\n",
    "else:\n",
    "    print(\"Invalid input. Please enter the name of a month.\")\n",
    "    num_days = None\n",
    "\n",
    "if num_days is not None:\n",
    "    if month_name == \"February\":\n",
    "        print(\"The number of days in February\", year, \"is\", num_days)\n",
    "    else:\n",
    "        print(\"The number of days in\", month_name, \"is\", num_days)\n",
    "#HOW TO MAKE STRINGS UNIVERSAL SO AS TO MAKE IT CHARACTER CASE FRIENDLY "
   ]
  },
  {
   "cell_type": "markdown",
   "id": "f13f534d",
   "metadata": {},
   "source": [
    "NAME THAT TRIANGLE"
   ]
  },
  {
   "cell_type": "code",
   "execution_count": 1,
   "id": "4bcaad0a",
   "metadata": {},
   "outputs": [
    {
     "name": "stdout",
     "output_type": "stream",
     "text": [
      "Enter the length of side a: 58.9\n",
      "Enter the length of side b: 78\n",
      "Enter the length of side c: 65\n",
      "This is a scalene triangle\n"
     ]
    }
   ],
   "source": [
    "\n",
    "a = float(input(\"Enter the length of side a: \"))\n",
    "b = float(input(\"Enter the length of side b: \"))\n",
    "c = float(input(\"Enter the length of side c: \"))\n",
    "\n",
    "if a == b and b == c:\n",
    "    print(\"This is an equilateral triangle\")\n",
    "elif a == b or b == c or a == c:\n",
    "    print(\"This is an isosceles triangle\")\n",
    "else:\n",
    "    print(\"This is a scalene triangle\")\n"
   ]
  },
  {
   "cell_type": "code",
   "execution_count": null,
   "id": "df1850ea",
   "metadata": {},
   "outputs": [],
   "source": []
  }
 ],
 "metadata": {
  "kernelspec": {
   "display_name": "Python 3 (ipykernel)",
   "language": "python",
   "name": "python3"
  },
  "language_info": {
   "codemirror_mode": {
    "name": "ipython",
    "version": 3
   },
   "file_extension": ".py",
   "mimetype": "text/x-python",
   "name": "python",
   "nbconvert_exporter": "python",
   "pygments_lexer": "ipython3",
   "version": "3.10.9"
  }
 },
 "nbformat": 4,
 "nbformat_minor": 5
}
