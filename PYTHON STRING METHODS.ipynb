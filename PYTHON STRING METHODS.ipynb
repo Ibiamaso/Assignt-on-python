{
 "cells": [
  {
   "cell_type": "markdown",
   "id": "f987db03",
   "metadata": {},
   "source": [
    "# PYTHON STRING METHODS\n"
   ]
  },
  {
   "cell_type": "markdown",
   "id": "51f7e759",
   "metadata": {},
   "source": [
    "# capitalize()\t\n",
    "Converts the first character to upper case"
   ]
  },
  {
   "cell_type": "code",
   "execution_count": null,
   "id": "6ef3140e",
   "metadata": {},
   "outputs": [],
   "source": [
    "string = \"hello world\"\n",
    "capitalized_string = string.capitalize()\n",
    "print(capitalized_string)  # Output: \"Hello world\"\n"
   ]
  },
  {
   "cell_type": "markdown",
   "id": "a1122e82",
   "metadata": {},
   "source": [
    "# casefold()\t\n",
    "Converts string into lower case"
   ]
  },
  {
   "cell_type": "code",
   "execution_count": null,
   "id": "c5e3e19f",
   "metadata": {},
   "outputs": [],
   "source": [
    "string = \"HELLO WORLD\"\n",
    "lowercase_string = string.casefold()\n",
    "print(lowercase_string)  # Output: \"hello world\"\n"
   ]
  },
  {
   "cell_type": "markdown",
   "id": "f1f095a7",
   "metadata": {},
   "source": [
    "# center()\t\n",
    "Returns a centered string"
   ]
  },
  {
   "cell_type": "code",
   "execution_count": null,
   "id": "dfbb0835",
   "metadata": {},
   "outputs": [],
   "source": [
    "string = \"hello\"\n",
    "centered_string = string.center(10)\n",
    "print(centered_string)  # Output: \"  hello   \"\n"
   ]
  },
  {
   "cell_type": "markdown",
   "id": "ad433463",
   "metadata": {},
   "source": [
    "# count()\n",
    "Returns the number of times a specified value occurs in a string"
   ]
  },
  {
   "cell_type": "code",
   "execution_count": null,
   "id": "ac0de5a9",
   "metadata": {},
   "outputs": [],
   "source": [
    "string = \"hello world\"\n",
    "count = string.count(\"l\")\n",
    "print(count)  # Output: 3\n"
   ]
  },
  {
   "cell_type": "markdown",
   "id": "acca422c",
   "metadata": {},
   "source": [
    "# encode()\n",
    "Returns an encoded version of the string"
   ]
  },
  {
   "cell_type": "code",
   "execution_count": null,
   "id": "1ff64559",
   "metadata": {},
   "outputs": [],
   "source": [
    "string = \"hello\"\n",
    "encoded_string = string.encode()\n",
    "print(encoded_string)  # Output: b'hello'\n"
   ]
  },
  {
   "cell_type": "markdown",
   "id": "aef5068e",
   "metadata": {},
   "source": [
    "# endswith()\t\n",
    "Returns true if the string ends with the specified value"
   ]
  },
  {
   "cell_type": "code",
   "execution_count": null,
   "id": "d124f07d",
   "metadata": {},
   "outputs": [],
   "source": [
    "string = \"hello world\"\n",
    "ends_with = string.endswith(\"world\")\n",
    "print(ends_with)  # Output: True\n"
   ]
  },
  {
   "cell_type": "markdown",
   "id": "abc921f2",
   "metadata": {},
   "source": [
    "# expandtabs()\t\n",
    "Sets the tab size of the string"
   ]
  },
  {
   "cell_type": "code",
   "execution_count": null,
   "id": "8409ed19",
   "metadata": {},
   "outputs": [],
   "source": [
    "string = \"hello\\tworld\"\n",
    "expanded_string = string.expandtabs(4)\n",
    "print(expanded_string)  # Output: \"hello   world\"\n"
   ]
  },
  {
   "cell_type": "markdown",
   "id": "776a051a",
   "metadata": {},
   "source": [
    "# find()\t\n",
    "Searches the string for a specified value and returns the position of where it was found"
   ]
  },
  {
   "cell_type": "code",
   "execution_count": null,
   "id": "9276bfb4",
   "metadata": {},
   "outputs": [],
   "source": [
    "string = \"hello world\"\n",
    "position = string.find(\"world\")\n",
    "print(position)  # Output: 6\n"
   ]
  },
  {
   "cell_type": "markdown",
   "id": "2d1ff02d",
   "metadata": {},
   "source": [
    "# format()\n",
    "Formats specified values in a string"
   ]
  },
  {
   "cell_type": "code",
   "execution_count": null,
   "id": "54ce4e7b",
   "metadata": {},
   "outputs": [],
   "source": [
    "name = \"Alice\"\n",
    "age = 25\n",
    "formatted_string = \"My name is {} and I am {} years old.\".format(name, age)\n",
    "print(formatted_string)  # Output: \"My name is Alice and I am 25 years old.\"\n"
   ]
  },
  {
   "cell_type": "markdown",
   "id": "b35bd508",
   "metadata": {},
   "source": [
    "# format_map()\n",
    "Formats specified values in a string"
   ]
  },
  {
   "cell_type": "code",
   "execution_count": null,
   "id": "330e7dd9",
   "metadata": {},
   "outputs": [],
   "source": [
    "person = {'name': 'Alice', 'age': 25}\n",
    "formatted_string = \"My name is {name} and I am {age} years old.\".format_map(person)\n",
    "print(formatted_string)  # Output: \"My name is Alice and I am 25 years old.\"\n"
   ]
  },
  {
   "cell_type": "markdown",
   "id": "23fb9f6b",
   "metadata": {},
   "source": [
    "# index()\n",
    "Searches the string for a specified value and returns the position of where it was found"
   ]
  },
  {
   "cell_type": "code",
   "execution_count": null,
   "id": "b188fc39",
   "metadata": {},
   "outputs": [],
   "source": [
    "string = \"hello world\"\n",
    "position = string.index(\"world\")\n",
    "print(position)  # Output: 6\n"
   ]
  },
  {
   "cell_type": "markdown",
   "id": "529f24dc",
   "metadata": {},
   "source": [
    "# isalnum()\t\n",
    "Returns True if all characters in the string are alphanumeric"
   ]
  },
  {
   "cell_type": "code",
   "execution_count": null,
   "id": "721cae79",
   "metadata": {},
   "outputs": [],
   "source": [
    "string = \"Hello123\"\n",
    "is_alphanumeric = string.isalnum()\n",
    "print(is_alphanumeric)  # Output: True\n"
   ]
  },
  {
   "cell_type": "markdown",
   "id": "0cdd454d",
   "metadata": {},
   "source": [
    "# isalpha()\n",
    "Returns True if all characters in the string are in the alphabet"
   ]
  },
  {
   "cell_type": "code",
   "execution_count": null,
   "id": "f1098499",
   "metadata": {},
   "outputs": [],
   "source": [
    "string = \"Hello\"\n",
    "is_alpha = string.isalpha()\n",
    "print(is_alpha)  # Output: True\n"
   ]
  },
  {
   "cell_type": "markdown",
   "id": "b7e3d3a6",
   "metadata": {},
   "source": [
    "# isascii()\t\n",
    "Returns True if all characters in the string are ascii characters"
   ]
  },
  {
   "cell_type": "code",
   "execution_count": null,
   "id": "a03716e8",
   "metadata": {},
   "outputs": [],
   "source": [
    "string = \"Hello\"\n",
    "is_ascii = string.isascii()\n",
    "print(is_ascii)  # Output: True\n"
   ]
  },
  {
   "cell_type": "markdown",
   "id": "8b515eba",
   "metadata": {},
   "source": [
    "# isdecimal()\n",
    "Returns True if all characters in the string are decimals"
   ]
  },
  {
   "cell_type": "code",
   "execution_count": null,
   "id": "b7611c75",
   "metadata": {},
   "outputs": [],
   "source": [
    "string = \"123\"\n",
    "is_decimal = string.isdecimal()\n",
    "print(is_decimal)  # Output: True\n"
   ]
  },
  {
   "cell_type": "markdown",
   "id": "0ba3c4d7",
   "metadata": {},
   "source": [
    "# isdigit()\n",
    "Returns True if all characters in the string are digits"
   ]
  },
  {
   "cell_type": "code",
   "execution_count": null,
   "id": "d3aee395",
   "metadata": {},
   "outputs": [],
   "source": [
    "string = \"123\"\n",
    "is_digit = string.isdigit()\n",
    "print(is_digit)  # Output: True\n"
   ]
  },
  {
   "cell_type": "markdown",
   "id": "c48dec52",
   "metadata": {},
   "source": [
    "# isidentifier()\n",
    "Returns True if the string is an identifier"
   ]
  },
  {
   "cell_type": "code",
   "execution_count": null,
   "id": "34d7392f",
   "metadata": {},
   "outputs": [],
   "source": [
    "string = \"hello\"\n",
    "is_identifier = string.isidentifier()\n",
    "print(is_identifier)  # Output: True\n"
   ]
  },
  {
   "cell_type": "markdown",
   "id": "fd5e3952",
   "metadata": {},
   "source": [
    "# islower()\t\n",
    "Returns True if all characters in the string are lower case"
   ]
  },
  {
   "cell_type": "code",
   "execution_count": null,
   "id": "9250a8c7",
   "metadata": {},
   "outputs": [],
   "source": [
    "string = \"hello\"\n",
    "is_lower = string.islower()\n",
    "print(is_lower)  # Output: True\n"
   ]
  },
  {
   "cell_type": "markdown",
   "id": "d16dfa04",
   "metadata": {},
   "source": [
    "# isnumeric()\t\n",
    "Returns True if all characters in the string are numeric"
   ]
  },
  {
   "cell_type": "code",
   "execution_count": null,
   "id": "a37c22ce",
   "metadata": {},
   "outputs": [],
   "source": [
    "string = \"123\"\n",
    "is_numeric = string.isnumeric()\n",
    "print(is_numeric)  # Output: True\n"
   ]
  },
  {
   "cell_type": "markdown",
   "id": "00ad58ed",
   "metadata": {},
   "source": [
    "# isprintable()\n",
    "Returns True if all characters in the string are printable"
   ]
  },
  {
   "cell_type": "code",
   "execution_count": null,
   "id": "9233e752",
   "metadata": {},
   "outputs": [],
   "source": [
    "string = \"hello\"\n",
    "is_printable = string.isprintable()\n",
    "print(is_printable)  # Output: True\n"
   ]
  },
  {
   "cell_type": "markdown",
   "id": "9802deb3",
   "metadata": {},
   "source": [
    "# isspace()\t\n",
    "Returns True if all characters in the string are whitespaces"
   ]
  },
  {
   "cell_type": "code",
   "execution_count": null,
   "id": "ed0f5890",
   "metadata": {},
   "outputs": [],
   "source": [
    "string = \"    \"\n",
    "is_space = string.isspace()\n",
    "print(is_space)  # Output: True\n"
   ]
  },
  {
   "cell_type": "markdown",
   "id": "85e29a14",
   "metadata": {},
   "source": [
    "# istitle()\n",
    "Returns True if the string follows the rules of a title"
   ]
  },
  {
   "cell_type": "code",
   "execution_count": null,
   "id": "bfadb583",
   "metadata": {},
   "outputs": [],
   "source": [
    "string = \"Hello World\"\n",
    "is_title = string.istitle()\n",
    "print(is_title)  # Output: True\n"
   ]
  },
  {
   "cell_type": "markdown",
   "id": "37ecaf5b",
   "metadata": {},
   "source": [
    "# isupper()\n",
    "Returns True if all characters in the string are upper case"
   ]
  },
  {
   "cell_type": "code",
   "execution_count": null,
   "id": "aa86886b",
   "metadata": {},
   "outputs": [],
   "source": [
    "string = \"HELLO\"\n",
    "is_upper = string.isupper()\n",
    "print(is_upper)  # Output: True\n"
   ]
  },
  {
   "cell_type": "markdown",
   "id": "97f53791",
   "metadata": {},
   "source": [
    "# join()\n",
    "Converts the elements of an iterable into a string"
   ]
  },
  {
   "cell_type": "code",
   "execution_count": null,
   "id": "ec9b4253",
   "metadata": {},
   "outputs": [],
   "source": [
    "list_of_words = [\"Hello\", \"World\"]\n",
    "joined_string = \" \".join(list_of_words)\n",
    "print(joined_string)  # Output: \"Hello World\"\n"
   ]
  },
  {
   "cell_type": "markdown",
   "id": "5f4d584d",
   "metadata": {},
   "source": [
    "# ljust()\t\n",
    "Returns a left justified version of the string"
   ]
  },
  {
   "cell_type": "code",
   "execution_count": null,
   "id": "060cd243",
   "metadata": {},
   "outputs": [],
   "source": [
    "string = \"hello\"\n",
    "justified_string = string.ljust(10)\n",
    "print(justified_string)  # Output: \"hello     \"\n"
   ]
  },
  {
   "cell_type": "markdown",
   "id": "490abd19",
   "metadata": {},
   "source": [
    "# lower()\n",
    "Converts a string into lower case"
   ]
  },
  {
   "cell_type": "code",
   "execution_count": null,
   "id": "99dfebef",
   "metadata": {},
   "outputs": [],
   "source": [
    "string = \"HELLO\"\n",
    "lowercase_string = string.lower()\n",
    "print(lowercase_string)  # Output: \"hello\"\n"
   ]
  },
  {
   "cell_type": "markdown",
   "id": "e2de5499",
   "metadata": {},
   "source": [
    "# lstrip()\t\n",
    "Returns a left trim version of the string"
   ]
  },
  {
   "cell_type": "code",
   "execution_count": null,
   "id": "138862a3",
   "metadata": {},
   "outputs": [],
   "source": [
    "string = \"   hello\"\n",
    "trimmed_string = string.lstrip()\n",
    "print(trimmed_string)  # Output: \"hello\"\n"
   ]
  },
  {
   "cell_type": "markdown",
   "id": "84fe9fa9",
   "metadata": {},
   "source": [
    "# maketrans()\n",
    "Returns a translation table to be used in translations"
   ]
  },
  {
   "cell_type": "code",
   "execution_count": null,
   "id": "14115bcd",
   "metadata": {},
   "outputs": [],
   "source": [
    "string = \"Hello\"\n",
    "translation_table = string.maketrans(\"H\", \"J\")\n",
    "translated_string = string.translate(translation_table)\n",
    "print(translated_string)  # Output: \"Jello\"\n"
   ]
  },
  {
   "cell_type": "markdown",
   "id": "9099dfd8",
   "metadata": {},
   "source": [
    "# partition()\n",
    "Returns a tuple where the string is parted into three parts"
   ]
  },
  {
   "cell_type": "code",
   "execution_count": null,
   "id": "46156ff5",
   "metadata": {},
   "outputs": [],
   "source": [
    "string = \"hello world\"\n",
    "partitioned_string = string.partition(\" \")\n",
    "print(partitioned_string)  # Output: (\"hello\", \" \", \"world\")\n"
   ]
  },
  {
   "cell_type": "markdown",
   "id": "227e7943",
   "metadata": {},
   "source": [
    "# replace()\n",
    "Returns a string where a specified value is replaced with a specified value"
   ]
  },
  {
   "cell_type": "code",
   "execution_count": null,
   "id": "1a4d82e6",
   "metadata": {},
   "outputs": [],
   "source": [
    "string = \"hello world\"\n",
    "replaced_string = string.replace(\"world\", \"universe\")\n",
    "print(replaced_string)  # Output: \"hello universe\"\n"
   ]
  },
  {
   "cell_type": "markdown",
   "id": "34f023cf",
   "metadata": {},
   "source": [
    "# rfind()\t\n",
    "Searches the string for a specified value and returns the last position of where it was found"
   ]
  },
  {
   "cell_type": "code",
   "execution_count": null,
   "id": "e842f80b",
   "metadata": {},
   "outputs": [],
   "source": [
    "string = \"hello world\"\n",
    "position = string.rfind(\"o\")\n",
    "print(position)  # Output: 7\n"
   ]
  },
  {
   "cell_type": "markdown",
   "id": "e6273614",
   "metadata": {},
   "source": [
    "# rindex()\n",
    "Searches the string for a specified value and returns the last position of where it was found"
   ]
  },
  {
   "cell_type": "code",
   "execution_count": null,
   "id": "ed4dc478",
   "metadata": {},
   "outputs": [],
   "source": [
    "string = \"hello world\"\n",
    "position = string.rindex(\"o\")\n",
    "print(position)  # Output: 7\n"
   ]
  },
  {
   "cell_type": "markdown",
   "id": "984a6fd0",
   "metadata": {},
   "source": [
    "# rjust()\t\n",
    "Returns a right justified version of the string"
   ]
  },
  {
   "cell_type": "code",
   "execution_count": null,
   "id": "2f502ed3",
   "metadata": {},
   "outputs": [],
   "source": [
    "string = \"hello\"\n",
    "justified_string = string.rjust(10)\n",
    "print(justified_string)  # Output: \"     hello\"\n"
   ]
  },
  {
   "cell_type": "markdown",
   "id": "94594a31",
   "metadata": {},
   "source": [
    "# rpartition()\t\n",
    "Returns a tuple where the string is parted into three parts"
   ]
  },
  {
   "cell_type": "code",
   "execution_count": null,
   "id": "3eecf096",
   "metadata": {},
   "outputs": [],
   "source": [
    "string = \"hello world\"\n",
    "partitioned_string = string.rpartition(\" \")\n",
    "print(partitioned_string)  # Output: (\"hello\", \" \", \"world\")\n"
   ]
  },
  {
   "cell_type": "markdown",
   "id": "af47481c",
   "metadata": {},
   "source": [
    "# rsplit()\t\n",
    "Splits the string at the specified separator, and returns a list"
   ]
  },
  {
   "cell_type": "code",
   "execution_count": null,
   "id": "4e52e746",
   "metadata": {},
   "outputs": [],
   "source": [
    "string = \"hello world\"\n",
    "split_list = string.rsplit(\" \")\n",
    "print(split_list)  # Output: [\"hello\", \"world\"]\n"
   ]
  },
  {
   "cell_type": "markdown",
   "id": "ef8d70b4",
   "metadata": {},
   "source": [
    "# rstrip()\t\n",
    "Returns a right trim version of the string"
   ]
  },
  {
   "cell_type": "code",
   "execution_count": null,
   "id": "30b3fb43",
   "metadata": {},
   "outputs": [],
   "source": [
    "string = \"hello   \"\n",
    "trimmed_string = string.rstrip()\n",
    "print(trimmed_string)  # Output: \"hello\"\n"
   ]
  },
  {
   "cell_type": "markdown",
   "id": "fe73245f",
   "metadata": {},
   "source": [
    "# split()\t\n",
    "Splits the string at the specified separator, and returns a list"
   ]
  },
  {
   "cell_type": "code",
   "execution_count": null,
   "id": "87445ee8",
   "metadata": {},
   "outputs": [],
   "source": [
    "string = \"hello world\"\n",
    "split_list = string.split(\" \")\n",
    "print(split_list)  # Output: [\"hello\", \"world\"]\n"
   ]
  },
  {
   "cell_type": "markdown",
   "id": "4c971a56",
   "metadata": {},
   "source": [
    "# splitlines()\n",
    "Splits the string at line breaks and returns a list"
   ]
  },
  {
   "cell_type": "code",
   "execution_count": null,
   "id": "fc9b3364",
   "metadata": {},
   "outputs": [],
   "source": [
    "string = \"Hello\\nWorld\"\n",
    "split_list = string.splitlines()\n",
    "print(split_list)  # Output: [\"Hello\", \"World\"]\n"
   ]
  },
  {
   "cell_type": "markdown",
   "id": "e04dfece",
   "metadata": {},
   "source": [
    "# startswith()\n",
    "Returns true if the string starts with the specified value"
   ]
  },
  {
   "cell_type": "code",
   "execution_count": null,
   "id": "13ac473d",
   "metadata": {},
   "outputs": [],
   "source": [
    "string = \"hello world\"\n",
    "starts_with = string.startswith(\"hello\")\n",
    "print(starts_with)  # Output: True\n"
   ]
  },
  {
   "cell_type": "markdown",
   "id": "9a4a0c35",
   "metadata": {},
   "source": [
    "# strip()\t\n",
    "Returns a trimmed version of the string"
   ]
  },
  {
   "cell_type": "code",
   "execution_count": null,
   "id": "bfc3811e",
   "metadata": {},
   "outputs": [],
   "source": [
    "string = \"   hello   \"\n",
    "trimmed_string = string.strip()\n",
    "print(trimmed_string)  # Output: \"hello\"\n"
   ]
  },
  {
   "cell_type": "markdown",
   "id": "b4546b09",
   "metadata": {},
   "source": [
    "# swapcase()\t\n",
    "Swaps cases, lower case becomes upper case and vice versa"
   ]
  },
  {
   "cell_type": "code",
   "execution_count": null,
   "id": "deb422c1",
   "metadata": {},
   "outputs": [],
   "source": [
    "string = \"Hello World\"\n",
    "swapped_case_string = string.swapcase()\n",
    "print(swapped_case_string)  # Output: \"hELLO wORLD\"\n"
   ]
  },
  {
   "cell_type": "markdown",
   "id": "c79d4971",
   "metadata": {},
   "source": [
    "# title()\t\n",
    "Converts the first character of each word to upper case"
   ]
  },
  {
   "cell_type": "code",
   "execution_count": null,
   "id": "d9665892",
   "metadata": {},
   "outputs": [],
   "source": [
    "string = \"hello world\"\n",
    "title_string = string.title()\n",
    "print(title_string)  # Output: \"Hello World\"\n"
   ]
  },
  {
   "cell_type": "markdown",
   "id": "756dffcf",
   "metadata": {},
   "source": [
    "# translate()\t\n",
    "Returns a translated string"
   ]
  },
  {
   "cell_type": "code",
   "execution_count": null,
   "id": "10cd550d",
   "metadata": {},
   "outputs": [],
   "source": [
    "string = \"Hello\"\n",
    "translation_table = str.maketrans(\"H\", \"J\")\n",
    "translated_string = string.translate(translation_table)\n",
    "print(translated_string)  # Output: \"Jello\"\n"
   ]
  },
  {
   "cell_type": "markdown",
   "id": "30304a21",
   "metadata": {},
   "source": [
    "# upper()\n",
    "Converts a string into upper case"
   ]
  },
  {
   "cell_type": "code",
   "execution_count": null,
   "id": "9455287a",
   "metadata": {},
   "outputs": [],
   "source": [
    "string = \"hello\"\n",
    "uppercase_string = string.upper()\n",
    "print(uppercase_string)  # Output: \"HELLO\"\n"
   ]
  },
  {
   "cell_type": "markdown",
   "id": "807e8fdd",
   "metadata": {},
   "source": [
    "# zfill()\n",
    "Fills the string with a specified number of 0 values at the beginning"
   ]
  },
  {
   "cell_type": "code",
   "execution_count": null,
   "id": "8439e3d8",
   "metadata": {},
   "outputs": [],
   "source": [
    "string = \"42\"\n",
    "padded_string = string.zfill(5)\n",
    "print(padded_string)  # Output: \"00042\"\n"
   ]
  }
 ],
 "metadata": {
  "kernelspec": {
   "display_name": "Python 3 (ipykernel)",
   "language": "python",
   "name": "python3"
  },
  "language_info": {
   "codemirror_mode": {
    "name": "ipython",
    "version": 3
   },
   "file_extension": ".py",
   "mimetype": "text/x-python",
   "name": "python",
   "nbconvert_exporter": "python",
   "pygments_lexer": "ipython3",
   "version": "3.10.9"
  }
 },
 "nbformat": 4,
 "nbformat_minor": 5
}
